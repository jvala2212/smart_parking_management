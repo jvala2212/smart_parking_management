{
 "cells": [
  {
   "cell_type": "code",
   "execution_count": 38,
   "id": "81749ea9",
   "metadata": {},
   "outputs": [],
   "source": [
    "import pandas as pd\n",
    "from sklearn.preprocessing import StandardScaler\n",
    "from sklearn.impute import SimpleImputer"
   ]
  },
  {
   "cell_type": "code",
   "execution_count": 39,
   "id": "57e462f2",
   "metadata": {},
   "outputs": [],
   "source": [
    "file_path = r'C:\\Users\\Jayesh vala\\OneDrive - Saint Peters University\\DS-670-capstone\\Downtown_Parking_Lots.csv'"
   ]
  },
  {
   "cell_type": "code",
   "execution_count": 40,
   "id": "5597e54e",
   "metadata": {},
   "outputs": [],
   "source": [
    "data = pd.read_csv( r'C:\\Users\\Jayesh vala\\OneDrive - Saint Peters University\\DS-670-capstone\\Downtown_Parking_Lots.csv')\n"
   ]
  },
  {
   "cell_type": "code",
   "execution_count": 41,
   "id": "02d4fdde",
   "metadata": {},
   "outputs": [
    {
     "name": "stdout",
     "output_type": "stream",
     "text": [
      "Original Data:\n",
      "   OBJECTID  FACILITYID  INTID  SALESFORCEID  SUBTYPEID  \\\n",
      "0         2           2      2           0.0        0.0   \n",
      "1         4           4      4           0.0        0.0   \n",
      "2         5           5      5           0.0        0.0   \n",
      "3         6           6      6           0.0        0.0   \n",
      "4         7           7      7           0.0        NaN   \n",
      "\n",
      "                                     NAME                         ADDRESS  \\\n",
      "0          SJ State University 7th Street                                   \n",
      "1  SJ State University 10th Street Garage                                   \n",
      "2               Cahill Lot 4 (Caltrain 4)   4 Cahill Street, San Jose, CA   \n",
      "3               Cahill Lot 2 (Caltrain 2)  21 Cahill Street, San Jose, CA   \n",
      "4               Cahill Lot 3 (Caltrain 3)                71 Cahill Street   \n",
      "\n",
      "          OWNERSHIP  TOTALSPACECOUNT  EVSPACECOUNT  ...  PARKINGTYPE  \\\n",
      "0      SJSU Parking           1980.0           NaN  ...          NaN   \n",
      "1      SJSU Parking           1490.0           NaN  ...          NaN   \n",
      "2  City of San Jose            149.0           NaN  ...          Lot   \n",
      "3  City of San Jose            162.0           NaN  ...          Lot   \n",
      "4  City of San Jose             90.0           NaN  ...          Lot   \n",
      "\n",
      "   NUMBEROFLEVELS PERMITS BIPLEASE  BIPAREA  CREATIONDATE  \\\n",
      "0             NaN     0.0      0.0      0.0           0.0   \n",
      "1             NaN     0.0      0.0      0.0           0.0   \n",
      "2             NaN     0.0      0.0      0.0           0.0   \n",
      "3             NaN     0.0      0.0      0.0           0.0   \n",
      "4             NaN     0.0      0.0      0.0           0.0   \n",
      "\n",
      "               LASTUPDATE  NOTES  SHAPE_Length    SHAPE_Area  \n",
      "0  2021/06/23 00:08:34+00   none   1434.256565  123290.02960  \n",
      "1  2021/06/23 00:08:34+00   none   1584.074221  132667.95220  \n",
      "2  2021/06/23 00:08:34+00   none    936.989709   54333.35930  \n",
      "3  2021/06/23 00:08:34+00   none    947.398405   55899.87649  \n",
      "4  2021/06/23 00:08:34+00   none    778.829121   37121.44225  \n",
      "\n",
      "[5 rows x 23 columns]\n"
     ]
    }
   ],
   "source": [
    "print(\"Original Data:\")\n",
    "print(data.head())"
   ]
  },
  {
   "cell_type": "code",
   "execution_count": 42,
   "id": "3877e73b",
   "metadata": {},
   "outputs": [
    {
     "name": "stdout",
     "output_type": "stream",
     "text": [
      "\n",
      "Missing Values:\n",
      "OBJECTID               0\n",
      "FACILITYID             0\n",
      "INTID                  0\n",
      "SALESFORCEID          50\n",
      "SUBTYPEID             47\n",
      "NAME                   0\n",
      "ADDRESS                0\n",
      "OWNERSHIP              0\n",
      "TOTALSPACECOUNT        3\n",
      "EVSPACECOUNT          81\n",
      "ADASPACECOUNT         81\n",
      "RESERVEDSPACECOUNT    82\n",
      "VALIDATION            59\n",
      "PARKINGTYPE           59\n",
      "NUMBEROFLEVELS        81\n",
      "PERMITS                3\n",
      "BIPLEASE               3\n",
      "BIPAREA                3\n",
      "CREATIONDATE          48\n",
      "LASTUPDATE             0\n",
      "NOTES                  0\n",
      "SHAPE_Length           0\n",
      "SHAPE_Area             0\n",
      "dtype: int64\n"
     ]
    }
   ],
   "source": [
    "missing_values = data.isnull().sum()\n",
    "print(\"\\nMissing Values:\")\n",
    "print(missing_values)\n"
   ]
  },
  {
   "cell_type": "code",
   "execution_count": 43,
   "id": "23c6cd82",
   "metadata": {},
   "outputs": [],
   "source": [
    "columns_to_drop = ['SALESFORCEID', 'PERMITS', 'BIPLEASE','CREATIONDATE','NOTES','SHAPE_Length','SHAPE_Area','VALIDATION','BIPAREA','OBJECTID','INTID','SUBTYPEID']  # Replace with the actual column names you want to drop\n",
    "data = data.drop(columns=columns_to_drop)\n"
   ]
  },
  {
   "cell_type": "code",
   "execution_count": null,
   "id": "45ac97ee",
   "metadata": {},
   "outputs": [],
   "source": []
  },
  {
   "cell_type": "code",
   "execution_count": 44,
   "id": "ba238507",
   "metadata": {},
   "outputs": [],
   "source": [
    "imputer = SimpleImputer(strategy='most_frequent')  # You can choose other strategies like 'median', 'most_frequent', etc.\n",
    "data_imputed = pd.DataFrame(imputer.fit_transform(data), columns=data.columns)\n"
   ]
  },
  {
   "cell_type": "code",
   "execution_count": 45,
   "id": "81fd05f7",
   "metadata": {},
   "outputs": [
    {
     "name": "stdout",
     "output_type": "stream",
     "text": [
      "\n",
      "Preprocessed Data:\n",
      "  FACILITYID                                    NAME  \\\n",
      "0          2          SJ State University 7th Street   \n",
      "1          4  SJ State University 10th Street Garage   \n",
      "2          5               Cahill Lot 4 (Caltrain 4)   \n",
      "3          6               Cahill Lot 2 (Caltrain 2)   \n",
      "4          7               Cahill Lot 3 (Caltrain 3)   \n",
      "\n",
      "                          ADDRESS         OWNERSHIP TOTALSPACECOUNT  \\\n",
      "0                                      SJSU Parking          1980.0   \n",
      "1                                      SJSU Parking          1490.0   \n",
      "2   4 Cahill Street, San Jose, CA  City of San Jose           149.0   \n",
      "3  21 Cahill Street, San Jose, CA  City of San Jose           162.0   \n",
      "4                71 Cahill Street  City of San Jose            90.0   \n",
      "\n",
      "  EVSPACECOUNT ADASPACECOUNT RESERVEDSPACECOUNT PARKINGTYPE NUMBEROFLEVELS  \\\n",
      "0          6.0          14.0               16.0         Lot            1.0   \n",
      "1          6.0          14.0               16.0         Lot            1.0   \n",
      "2          6.0          14.0               16.0         Lot            1.0   \n",
      "3          6.0          14.0               16.0         Lot            1.0   \n",
      "4          6.0          14.0               16.0         Lot            1.0   \n",
      "\n",
      "               LASTUPDATE  \n",
      "0  2021/06/23 00:08:34+00  \n",
      "1  2021/06/23 00:08:34+00  \n",
      "2  2021/06/23 00:08:34+00  \n",
      "3  2021/06/23 00:08:34+00  \n",
      "4  2021/06/23 00:08:34+00  \n"
     ]
    }
   ],
   "source": [
    "print(\"\\nPreprocessed Data:\")\n",
    "print(data_imputed.head())\n",
    "\n"
   ]
  },
  {
   "cell_type": "code",
   "execution_count": 51,
   "id": "d83f9f29",
   "metadata": {},
   "outputs": [
    {
     "name": "stdout",
     "output_type": "stream",
     "text": [
      "\n",
      "Updated Data:\n",
      "   FACILITYID                                    NAME  \\\n",
      "0           2          SJ State University 7th Street   \n",
      "1           4  SJ State University 10th Street Garage   \n",
      "2           5               Cahill Lot 4 (Caltrain 4)   \n",
      "3           6               Cahill Lot 2 (Caltrain 2)   \n",
      "4           7               Cahill Lot 3 (Caltrain 3)   \n",
      "\n",
      "                          ADDRESS         OWNERSHIP  TOTALSPACECOUNT  \\\n",
      "0                                      SJSU Parking           1980.0   \n",
      "1                                      SJSU Parking           1490.0   \n",
      "2   4 Cahill Street, San Jose, CA  City of San Jose            149.0   \n",
      "3  21 Cahill Street, San Jose, CA  City of San Jose            162.0   \n",
      "4                71 Cahill Street  City of San Jose             90.0   \n",
      "\n",
      "   EVSPACECOUNT  ADASPACECOUNT  RESERVEDSPACECOUNT PARKINGTYPE  \\\n",
      "0           6.0           14.0                16.0         Lot   \n",
      "1           6.0           14.0                16.0         Lot   \n",
      "2           6.0           14.0                16.0         Lot   \n",
      "3           6.0           14.0                16.0         Lot   \n",
      "4           6.0           14.0                16.0         Lot   \n",
      "\n",
      "   NUMBEROFLEVELS              LASTUPDATE  AVAILABLESPACECOUNT  \n",
      "0             1.0  2021/06/23 00:08:34+00               1944.0  \n",
      "1             1.0  2021/06/23 00:08:34+00               1454.0  \n",
      "2             1.0  2021/06/23 00:08:34+00                113.0  \n",
      "3             1.0  2021/06/23 00:08:34+00                126.0  \n",
      "4             1.0  2021/06/23 00:08:34+00                 54.0  \n",
      "\n",
      "Dataset saved successfully to 'updated_data.csv'\n"
     ]
    }
   ],
   "source": [
    "\n",
    "data = pd.read_csv(\"preprocessed_data.csv\")\n",
    "\n",
    "# List of columns to subtract from TOTALSPACECOUNT\n",
    "columns_to_subtract = ['EVSPACECOUNT', 'RESERVEDSPACECOUNT', 'ADASPACECOUNT']\n",
    "\n",
    "# Calculate available space count\n",
    "data['AVAILABLESPACECOUNT'] = data['TOTALSPACECOUNT'] - data[columns_to_subtract].sum(axis=1)\n",
    "\n",
    "# Drop rows where AVAILABLESPACECOUNT is negative\n",
    "data = data[data['AVAILABLESPACECOUNT'] >= 0]\n",
    "\n",
    "# Display the updated dataset\n",
    "print(\"\\nUpdated Data:\")\n",
    "print(data.head())\n",
    "\n",
    "# Save the updated dataset to a new CSV file\n",
    "data.to_csv(\"updated_data.csv\", index=False)\n",
    "\n",
    "print(\"\\nDataset saved successfully to 'updated_data.csv'\")\n"
   ]
  },
  {
   "cell_type": "code",
   "execution_count": null,
   "id": "7bae082a",
   "metadata": {},
   "outputs": [],
   "source": []
  }
 ],
 "metadata": {
  "kernelspec": {
   "display_name": "Python 3 (ipykernel)",
   "language": "python",
   "name": "python3"
  },
  "language_info": {
   "codemirror_mode": {
    "name": "ipython",
    "version": 3
   },
   "file_extension": ".py",
   "mimetype": "text/x-python",
   "name": "python",
   "nbconvert_exporter": "python",
   "pygments_lexer": "ipython3",
   "version": "3.11.5"
  }
 },
 "nbformat": 4,
 "nbformat_minor": 5
}
